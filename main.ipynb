{
  "cells": [
    {
      "cell_type": "markdown",
      "source": [
        "https://github.com/rasbt/machine-learning-book/blob/main/ch18/ch18_part2.py"
      ],
      "metadata": {
        "id": "5eJEe3o0chMa"
      }
    },
    {
      "cell_type": "code",
      "source": [
        "!pip install torch-scatter torch-sparse torch-cluster torch-spline-conv torch-geometric -f https://data.pyg.org/whl/torch-1.12.0+cpu.html"
      ],
      "metadata": {
        "colab": {
          "base_uri": "https://localhost:8080/"
        },
        "id": "UGn95vpM8EGg",
        "outputId": "6247eff0-02fd-4f7b-9f37-da28686c6b4d"
      },
      "execution_count": null,
      "outputs": [
        {
          "output_type": "stream",
          "name": "stdout",
          "text": [
            "Looking in indexes: https://pypi.org/simple, https://us-python.pkg.dev/colab-wheels/public/simple/\n",
            "Looking in links: https://data.pyg.org/whl/torch-1.12.0+cpu.html\n",
            "Requirement already satisfied: torch-scatter in /usr/local/lib/python3.7/dist-packages (2.0.9)\n",
            "Requirement already satisfied: torch-sparse in /usr/local/lib/python3.7/dist-packages (0.6.15)\n",
            "Requirement already satisfied: torch-cluster in /usr/local/lib/python3.7/dist-packages (1.6.0)\n",
            "Requirement already satisfied: torch-spline-conv in /usr/local/lib/python3.7/dist-packages (1.2.1)\n",
            "Requirement already satisfied: torch-geometric in /usr/local/lib/python3.7/dist-packages (2.1.0.post1)\n",
            "Requirement already satisfied: scipy in /usr/local/lib/python3.7/dist-packages (from torch-sparse) (1.7.3)\n",
            "Requirement already satisfied: tqdm in /usr/local/lib/python3.7/dist-packages (from torch-geometric) (4.64.1)\n",
            "Requirement already satisfied: requests in /usr/local/lib/python3.7/dist-packages (from torch-geometric) (2.23.0)\n",
            "Requirement already satisfied: jinja2 in /usr/local/lib/python3.7/dist-packages (from torch-geometric) (2.11.3)\n",
            "Requirement already satisfied: pyparsing in /usr/local/lib/python3.7/dist-packages (from torch-geometric) (3.0.9)\n",
            "Requirement already satisfied: scikit-learn in /usr/local/lib/python3.7/dist-packages (from torch-geometric) (1.0.2)\n",
            "Requirement already satisfied: numpy in /usr/local/lib/python3.7/dist-packages (from torch-geometric) (1.21.6)\n",
            "Requirement already satisfied: MarkupSafe>=0.23 in /usr/local/lib/python3.7/dist-packages (from jinja2->torch-geometric) (2.0.1)\n",
            "Requirement already satisfied: idna<3,>=2.5 in /usr/local/lib/python3.7/dist-packages (from requests->torch-geometric) (2.10)\n",
            "Requirement already satisfied: certifi>=2017.4.17 in /usr/local/lib/python3.7/dist-packages (from requests->torch-geometric) (2022.9.24)\n",
            "Requirement already satisfied: chardet<4,>=3.0.2 in /usr/local/lib/python3.7/dist-packages (from requests->torch-geometric) (3.0.4)\n",
            "Requirement already satisfied: urllib3!=1.25.0,!=1.25.1,<1.26,>=1.21.1 in /usr/local/lib/python3.7/dist-packages (from requests->torch-geometric) (1.24.3)\n",
            "Requirement already satisfied: threadpoolctl>=2.0.0 in /usr/local/lib/python3.7/dist-packages (from scikit-learn->torch-geometric) (3.1.0)\n",
            "Requirement already satisfied: joblib>=0.11 in /usr/local/lib/python3.7/dist-packages (from scikit-learn->torch-geometric) (1.2.0)\n"
          ]
        }
      ]
    },
    {
      "cell_type": "code",
      "execution_count": null,
      "metadata": {
        "id": "CmF00hlq7_RZ"
      },
      "outputs": [],
      "source": [
        "import utils\n",
        "import torch\n",
        "from pandas import read_csv, DataFrame as df\n",
        "from numpy import array as arr, expand_dims, arange, corrcoef as corr, where, isnan\n",
        "from ast import literal_eval as lev\n",
        "from sklearn.model_selection import train_test_split as tts\n",
        "from warnings import filterwarnings as fw; fw(\"ignore\")\n",
        "import torch.nn.functional as F\n",
        "import torch.nn as nn\n",
        "from torch_geometric.nn import NNConv, global_add_pool\n",
        "import math\n",
        "import numpy as np\n",
        "from torch_geometric.data import Data\n",
        "from torch_geometric.loader import DataLoader\n",
        "import matplotlib.pyplot as plt"
      ]
    },
    {
      "cell_type": "code",
      "execution_count": null,
      "metadata": {
        "id": "Sb2fnzG_7_Rc"
      },
      "outputs": [],
      "source": [
        "RANDOM_SEED = 42\n",
        "EMBEDDING_DIM = 5\n",
        "BATCH_SIZE = 2"
      ]
    },
    {
      "cell_type": "code",
      "execution_count": null,
      "metadata": {
        "id": "CZ0RN1917_Rd"
      },
      "outputs": [],
      "source": [
        "THRESHOLD = .95\n",
        "WINDOW_SIZE = 40"
      ]
    },
    {
      "cell_type": "code",
      "execution_count": null,
      "metadata": {
        "id": "D1_mGoiZ7_Rd"
      },
      "outputs": [],
      "source": [
        "DATASET_PATH = \"./dataset/\""
      ]
    },
    {
      "cell_type": "code",
      "execution_count": null,
      "metadata": {
        "id": "k2IqVxBx7_Re"
      },
      "outputs": [],
      "source": [
        "def load_dataset(path : str = DATASET_PATH, partial : int = None, *args, **kwargs) -> tuple:\n",
        "    big_dataset = read_csv(path + \"gp_table.csv\")\n",
        "    \n",
        "    if partial is not None:\n",
        "        big_dataset = big_dataset[:partial]\n",
        "    \n",
        "    x = arr([lev(i) for i in big_dataset['snps']]) # convert string of list into literal list\n",
        "    y = arr(big_dataset['rice_yield'])\n",
        "    print(\"============ Raw Data ============\")\n",
        "    print(\"x data dim: {}\".format(x.shape))\n",
        "    print(\"y data dim: {}\".format(y.shape), end=\"\\n\\n\")\n",
        "\n",
        "    # split dataset\n",
        "    x_train, x_test, y_train, y_test = tts(x, y, test_size=.3, random_state=RANDOM_SEED)\n",
        "    x_test, x_val, y_test, y_val = tts(x_test, y_test, test_size=.5, random_state=RANDOM_SEED)\n",
        "\n",
        "    print(\"========= Processed Data =========\")\n",
        "    print(\"x_train: {}, y_train: {}\".format(len(x_train), len(y_train)))\n",
        "    print(\"x_valid: {}, y_valid: {}\".format(len(x_val), len(y_val)))\n",
        "    print(\"x_test: {}, y_test: {}\".format(len(x_test), len(y_test)))\n",
        "\n",
        "    return (x_train, y_train), (x_val, y_val), (x_test, y_test)"
      ]
    },
    {
      "cell_type": "code",
      "execution_count": null,
      "metadata": {
        "id": "CWh32Qrm7_Rf"
      },
      "outputs": [],
      "source": [
        "def chr_pos_list(path : str = DATASET_PATH, *args, **kwargs) -> dict:\n",
        "    imputed_snps_data = read_csv(path + \"ind-rg-snps.csv\")\n",
        "    cleaned_snps = df(imputed_snps_data.columns[2:], columns=[\"snps\"])\n",
        "    \n",
        "    chr_data = read_csv(path + \"ind-rg-chrpos.csv\", index_col=0)\n",
        "    chr_data.insert(len(chr_data.columns), \"snps\", list(map(lambda x, y: x + \"_\" + y, chr_data.id, chr_data.ref)))\n",
        "    \n",
        "    snps_chrpos = chr_data.merge(cleaned_snps, on=[\"snps\"], how=\"right\")\n",
        "    all_chr_list = torch.tensor(snps_chrpos.chr.values, dtype=torch.long)\n",
        "    all_pos_list = torch.tensor(snps_chrpos.pos.values, dtype=torch.long)\n",
        "    return {\"chr\" : all_chr_list, \"pos\" : all_pos_list}"
      ]
    },
    {
      "cell_type": "code",
      "execution_count": null,
      "metadata": {
        "id": "fhHHENZe7_Rg"
      },
      "outputs": [],
      "source": [
        "snps_chr_pos = chr_pos_list()\n",
        "all_chr_list, all_pos_list = snps_chr_pos[\"chr\"], snps_chr_pos[\"pos\"]"
      ]
    },
    {
      "cell_type": "code",
      "execution_count": null,
      "metadata": {
        "colab": {
          "base_uri": "https://localhost:8080/"
        },
        "id": "D6O87cIj7_Rh",
        "outputId": "29e81b61-644a-4117-a1dd-7ad1fb970bec"
      },
      "outputs": [
        {
          "output_type": "stream",
          "name": "stdout",
          "text": [
            "============ Raw Data ============\n",
            "x data dim: (100, 1232)\n",
            "y data dim: (100,)\n",
            "\n",
            "========= Processed Data =========\n",
            "x_train: 70, y_train: 70\n",
            "x_valid: 15, y_valid: 15\n",
            "x_test: 15, y_test: 15\n"
          ]
        }
      ],
      "source": [
        "(x_train, y_train), (x_val, y_val), (x_test, y_test) = load_dataset(partial=100, apply_pca=True)"
      ]
    },
    {
      "cell_type": "code",
      "execution_count": null,
      "metadata": {
        "id": "x9jDIToS7_Ri"
      },
      "outputs": [],
      "source": [
        "def vectorized_sliding_windows(data, max_len : int, window_size : int = WINDOW_SIZE, start : int = 0) -> arr:\n",
        "    max_len -= window_size-1\n",
        "    sub_windows = (\n",
        "        start +\n",
        "        expand_dims(arange(window_size), 0) +\n",
        "        expand_dims(arange(max_len), 0).T\n",
        "    )\n",
        "    \n",
        "    return arr(data)[sub_windows]"
      ]
    },
    {
      "cell_type": "code",
      "execution_count": null,
      "metadata": {
        "id": "rZKA7Qw97_Rj"
      },
      "outputs": [],
      "source": [
        "def create_edge_index(\n",
        "    data,\n",
        "    thresh : float = THRESHOLD,\n",
        "    step_decay : float = .02,\n",
        "    lower_bound_edges : int = 20,\n",
        "    *args, **kwargs\n",
        ") -> dict:\n",
        "    edges = []\n",
        "    count_step_decay = 0\n",
        "    corr_vals= []\n",
        "    \n",
        "    while len(edges) <= lower_bound_edges:\n",
        "        corr_vals= []\n",
        "        allel = df(corr(vectorized_sliding_windows(data, len(data))))\n",
        "        allel = allel.mask(allel < thresh) # filter: mark column as NaN if it is below the threshold\n",
        "        \n",
        "        edges = [(x, allel.columns[y]) for x, y in zip(*where(~isnan(allel.values)))] # get coord where the value is not NaN\n",
        "        edges = [i for i in edges if i[0] != i[1]] # remove duplicates (in diagonal), e.g., (0, 0), (1, 1), (2, 2)\n",
        "\n",
        "        \n",
        "        # corr_vals = [x for x in math.isnan(allel.values)]\n",
        "        for i in range(0, len(allel.values)):\n",
        "          for j in range(0, len(allel.values[i])):\n",
        "            if i!=j and math.isnan(allel.values[i][j]) == False:\n",
        "              corr_vals.append(allel.values[i][j])\n",
        "\n",
        "        # corr_vals = [i for i in corr_vals if i[0] != i[1]]      \n",
        "\n",
        "        if len(edges) <= lower_bound_edges:\n",
        "            thresh = round(thresh-step_decay, 2)\n",
        "            count_step_decay += 1\n",
        "\n",
        "    # print(corr_vals)\n",
        "    # print(edges)\n",
        "    # print(len(corr_vals))\n",
        "    # print(len(edges))\n",
        "    idx_source, idx_dest = [idx[0] for idx in edges], [idx[1] for idx in edges]\n",
        "    # print(len(idx_source))\n",
        "    edge_index = torch.tensor([idx_source, idx_dest], dtype=torch.long)\n",
        "    return {\"edge_index\" : edge_index, \"corr_vals\": corr_vals, \"total_conn\" : len(edges), \"treshold_used\" : thresh, \"count_step_decay\" : count_step_decay}"
      ]
    },
    {
      "cell_type": "code",
      "execution_count": null,
      "metadata": {
        "id": "5itS91-U7_Rl"
      },
      "outputs": [],
      "source": [
        "def create_node_index(\n",
        "    snp_data,\n",
        "    snp_vocab : int = 3,\n",
        "    chr_data : torch.Tensor = all_chr_list,\n",
        "    chr_vocab : int = max(all_chr_list).item()+1,\n",
        "    pos_data : torch.Tensor = all_pos_list,\n",
        "    pos_vocab : int = max(all_pos_list).item()+1,\n",
        "    dim : int = EMBEDDING_DIM,\n",
        "    *args, **kwargs\n",
        ") -> dict:\n",
        "    embedding = torch.nn.Embedding(3, dim)\n",
        "    node_index = embedding(torch.from_numpy(snp_data))\n",
        "    \n",
        "    chr_embedding = torch.nn.Embedding(chr_vocab, dim)\n",
        "    node_index += chr_embedding(chr_data)\n",
        "    \n",
        "    pos_embedding = torch.nn.Embedding(pos_vocab, dim)\n",
        "    node_index += pos_embedding(pos_data)\n",
        "    return {\"node_index\" : node_index, \"shape\" : node_index.shape}"
      ]
    },
    {
      "cell_type": "code",
      "source": [
        "def create_edge_attr(\n",
        "    corr_vals,\n",
        "    *args, **kwargs\n",
        ") -> dict:\n",
        "\n",
        "    cor_val_labels = []\n",
        "    for val in corr_vals:\n",
        "      if val == 0: \n",
        "        # print(f'{val} No Correlation')\n",
        "        cor_val_labels.append(0)\n",
        "      elif val <0.6:\n",
        "        # print(f'{val} Less Correlation')\n",
        "        cor_val_labels.append(1)\n",
        "      elif val < 1:\n",
        "        # print(f'{val} Correlated')\n",
        "        cor_val_labels.append(2)\n",
        "      else:\n",
        "        # print(f'{val} Highly Correlated')\n",
        "        cor_val_labels.append(3)   \n",
        "\n",
        "    cor_val_labels = torch.tensor(cor_val_labels)\n",
        "    edge_attribute = F.one_hot(cor_val_labels, num_classes=4).to(torch.float)\n",
        "\n",
        "    return {\"edge_attribute\" : edge_attribute, \"shape\" : edge_attribute.shape}"
      ],
      "metadata": {
        "id": "UofnpzVYRKl6"
      },
      "execution_count": null,
      "outputs": []
    },
    {
      "cell_type": "code",
      "execution_count": null,
      "metadata": {
        "id": "Lhi9GssF7_Rm"
      },
      "outputs": [],
      "source": [
        "def create_dataloader(x, label, batch_size : int = BATCH_SIZE, *args, **kwargs):\n",
        "    data = []\n",
        "    for i in zip(x, label):\n",
        "        snp_data, yield_data = i[0], i[1]\n",
        "        node = create_node_index(snp_data)\n",
        "        edge = create_edge_index(snp_data)\n",
        "        # print(edge[\"corr_vals\"])\n",
        "        edge_attribute = create_edge_attr(edge[\"corr_vals\"])\n",
        "        label = torch.tensor(i[1], dtype=torch.long)\n",
        "        data.append(Data(x=node[\"node_index\"], edge_index=edge[\"edge_index\"], y=label, edge_attr= edge_attribute[\"edge_attribute\"] ))\n",
        "        \n",
        "        del snp_data\n",
        "        del yield_data\n",
        "        del node\n",
        "        del edge\n",
        "        del label\n",
        "        \n",
        "    return DataLoader(data, batch_size=batch_size, shuffle=True)"
      ]
    },
    {
      "cell_type": "code",
      "source": [
        "# valid_dataloader = create_dataloader(x_val[:1], y_val[:1])"
      ],
      "metadata": {
        "id": "zmu7gtqqJALN"
      },
      "execution_count": null,
      "outputs": []
    },
    {
      "cell_type": "code",
      "execution_count": null,
      "metadata": {
        "id": "T5Dsbovi7_Rn"
      },
      "outputs": [],
      "source": [
        "train_dataloader = create_dataloader(x_train[:3], y_train[:3])\n",
        "valid_dataloader = create_dataloader(x_val[:1], y_val[:1])\n",
        "test_dataloader = create_dataloader(x_test[:1], y_test[:1])"
      ]
    },
    {
      "cell_type": "code",
      "source": [
        "# print(test_dataloader)\n",
        "for data in test_dataloader:\n",
        "  print(data.y)"
      ],
      "metadata": {
        "colab": {
          "base_uri": "https://localhost:8080/"
        },
        "id": "m7PVHmWkTC8M",
        "outputId": "cd226715-0163-4555-ec29-40fd8a96959a"
      },
      "execution_count": null,
      "outputs": [
        {
          "output_type": "stream",
          "name": "stdout",
          "text": [
            "tensor([3])\n"
          ]
        }
      ]
    },
    {
      "cell_type": "code",
      "execution_count": null,
      "metadata": {
        "id": "iM-mqz6Q7_Rn",
        "colab": {
          "base_uri": "https://localhost:8080/"
        },
        "outputId": "c2de1bcf-bc88-47a2-8d6b-97b5bab4eeec"
      },
      "outputs": [
        {
          "output_type": "stream",
          "name": "stdout",
          "text": [
            "train\n",
            "DataBatch(x=[2464, 5], edge_index=[2, 88], edge_attr=[88, 4], y=[2], batch=[2464], ptr=[3])\n",
            "DataBatch(x=[1232, 5], edge_index=[2, 26], edge_attr=[26, 4], y=[1], batch=[1232], ptr=[2])\n",
            "\n",
            "valid\n",
            "DataBatch(x=[1232, 5], edge_index=[2, 52], edge_attr=[52, 4], y=[1], batch=[1232], ptr=[2])\n",
            "\n",
            "test\n",
            "DataBatch(x=[1232, 5], edge_index=[2, 32], edge_attr=[32, 4], y=[1], batch=[1232], ptr=[2])\n"
          ]
        }
      ],
      "source": [
        "print(\"train\")\n",
        "for i in train_dataloader:\n",
        "    print(i)\n",
        "print()\n",
        "print(\"valid\")\n",
        "for i in valid_dataloader:\n",
        "    print(i)\n",
        "print()\n",
        "print(\"test\")\n",
        "for i in test_dataloader:\n",
        "    print(i)"
      ]
    },
    {
      "cell_type": "code",
      "source": [
        "class ExampleNet(torch.nn.Module):\n",
        "    def __init__(self,num_node_features, num_edge_features):\n",
        "        super().__init__()\n",
        "        conv1_net = nn.Sequential(nn.Linear(num_edge_features, 32),\n",
        "                                  nn.ReLU(),\n",
        "                                  nn.Linear(32, num_node_features*32))\n",
        "        conv2_net = nn.Sequential(nn.Linear(num_edge_features,32),\n",
        "                                  nn.ReLU(),\n",
        "                                  nn.Linear(32, 32*16))\n",
        "        self.conv1 = NNConv(num_node_features, 32, conv1_net)\n",
        "        self.conv2 = NNConv(32, 16, conv2_net)\n",
        "        self.fc_1 = nn.Linear(16, 32)\n",
        "        self.out = nn.Linear(32, 1)\n",
        "        \n",
        "    def forward(self, data):\n",
        "        batch, x, edge_index, edge_attr=data.batch, data.x, data.edge_index, data.edge_attr\n",
        "        x = F.relu(self.conv1(x, edge_index, edge_attr))\n",
        "        x = F.relu(self.conv2(x, edge_index, edge_attr))\n",
        "        x = global_add_pool(x,batch)\n",
        "        x = F.relu(self.fc_1(x))\n",
        "        output = self.out(x)\n",
        "        return output"
      ],
      "metadata": {
        "id": "IDeEb1pYJNLD"
      },
      "execution_count": null,
      "outputs": []
    },
    {
      "cell_type": "code",
      "source": [
        "num_node_feats, num_edge_feats = 5, 4\n",
        "epochs = 4\n",
        "net = ExampleNet(num_node_feats, num_edge_feats)\n",
        "\n",
        "optimizer = torch.optim.Adam(net.parameters(), lr=0.01)\n",
        "epochs = 4\n",
        "target_idx = 1 # index position of the polarizability label\n",
        "\n",
        "device = torch.device(\"cuda:0\" if torch.cuda.is_available() else \"cpu\")\n",
        "# device = torch.device(\"cpu\")\n",
        "net.to(device)\n",
        "\n",
        "import numpy as np\n",
        "\n",
        "for total_epochs in range(epochs):\n",
        "    epoch_loss = 0\n",
        "    total_graphs = 0\n",
        "    net.train()\n",
        "    for batch in train_dataloader:\n",
        "        batch.to(device)\n",
        "        optimizer.zero_grad()\n",
        "        output = net(batch)\n",
        "        # print(type(output))\n",
        "        # print(type(batch.y))\n",
        "        loss = F.mse_loss(output, batch.y)\n",
        "\n",
        "        loss_float = torch.tensor(loss, dtype=torch.float, requires_grad = True)\n",
        "        loss_float.retain_grad()\n",
        "        loss_float.backward()\n",
        "        epoch_loss += loss.item()\n",
        "        total_graphs += batch.num_graphs\n",
        "        optimizer.step()\n",
        "    \n",
        "    train_avg_loss = epoch_loss / total_graphs\n",
        "    val_loss = 0\n",
        "    total_graphs = 0\n",
        "    net.eval()\n",
        "    for batch in valid_dataloader:\n",
        "        batch.to(device)\n",
        "        output = net(batch)\n",
        "        loss = F.mse_loss(output,batch.y)\n",
        "        val_loss += loss.item()\n",
        "        total_graphs += batch.num_graphs\n",
        "    val_avg_loss = val_loss / total_graphs\n",
        "    \n",
        "    \n",
        "    print(f\"Epochs: {total_epochs} | epoch avg. loss: {train_avg_loss:.2f} | validation avg. loss: {val_avg_loss:.2f}\")\n",
        "    print()"
      ],
      "metadata": {
        "id": "PRmS5s-RJ_zz",
        "colab": {
          "base_uri": "https://localhost:8080/"
        },
        "outputId": "26671315-3f2e-4088-86d0-ce48dd137a75"
      },
      "execution_count": null,
      "outputs": [
        {
          "output_type": "stream",
          "name": "stdout",
          "text": [
            "Epochs: 0 | epoch avg. loss: 2843.52 | validation avg. loss: 4732.28\n",
            "\n",
            "Epochs: 1 | epoch avg. loss: 2843.52 | validation avg. loss: 4732.29\n",
            "\n",
            "Epochs: 2 | epoch avg. loss: 2843.52 | validation avg. loss: 4732.28\n",
            "\n",
            "Epochs: 3 | epoch avg. loss: 3194.31 | validation avg. loss: 4732.28\n",
            "\n"
          ]
        }
      ]
    },
    {
      "cell_type": "code",
      "source": [
        "net.eval()\n",
        "predictions = []\n",
        "real = []\n",
        "\n",
        "for batch in test_dataloader:\n",
        "    print(batch.y)\n",
        "    output = net(batch.to(device))\n",
        "    predictions.append(output.detach().cpu().numpy())\n",
        "    real.append(batch.y.detach().cpu().numpy())\n",
        "\n",
        "predictions = np.concatenate(predictions)\n",
        "real = np.concatenate(real)"
      ],
      "metadata": {
        "id": "cmGLs9fgERbn",
        "colab": {
          "base_uri": "https://localhost:8080/"
        },
        "outputId": "3904a41b-f3cf-40b7-d04e-80b3f5829d25"
      },
      "execution_count": null,
      "outputs": [
        {
          "output_type": "stream",
          "name": "stdout",
          "text": [
            "tensor([3])\n"
          ]
        }
      ]
    },
    {
      "cell_type": "code",
      "source": [
        "print(len(predictions))\n",
        "print(len(real))"
      ],
      "metadata": {
        "id": "VU6oUOJfEs-D",
        "colab": {
          "base_uri": "https://localhost:8080/"
        },
        "outputId": "9f570cbc-4ba2-4bfb-f081-f5479675435f"
      },
      "execution_count": null,
      "outputs": [
        {
          "output_type": "stream",
          "name": "stdout",
          "text": [
            "1\n",
            "1\n"
          ]
        }
      ]
    },
    {
      "cell_type": "code",
      "source": [
        "plt.scatter(real,predictions)\n",
        "plt.ylabel('Predicted isotropic polarizability')\n",
        "plt.xlabel('Isotropic polarizability')"
      ],
      "metadata": {
        "id": "eVuszYoSci8F",
        "colab": {
          "base_uri": "https://localhost:8080/",
          "height": 296
        },
        "outputId": "94479537-4a0f-48cc-8065-bbdae428de41"
      },
      "execution_count": null,
      "outputs": [
        {
          "output_type": "execute_result",
          "data": {
            "text/plain": [
              "Text(0.5, 0, 'Isotropic polarizability')"
            ]
          },
          "metadata": {},
          "execution_count": 24
        },
        {
          "output_type": "display_data",
          "data": {
            "text/plain": [
              "<Figure size 432x288 with 1 Axes>"
            ],
            "image/png": "[encoded data removed]"
          },
          "metadata": {
            "needs_background": "light"
          }
        }
      ]
    },
    {
      "cell_type": "code",
      "execution_count": null,
      "metadata": {
        "id": "4hHTPUf17_Ro"
      },
      "outputs": [],
      "source": [
        "del train_dataloader"
      ]
    }
  ],
  "metadata": {
    "accelerator": "GPU",
    "colab": {
      "collapsed_sections": [],
      "machine_shape": "hm",
      "provenance": []
    },
    "gpuClass": "standard",
    "kernelspec": {
      "display_name": "gnn-venv",
      "language": "python",
      "name": "gnn-venv"
    },
    "language_info": {
      "codemirror_mode": {
        "name": "ipython",
        "version": 3
      },
      "file_extension": ".py",
      "mimetype": "text/x-python",
      "name": "python",
      "nbconvert_exporter": "python",
      "pygments_lexer": "ipython3",
      "version": "3.9.12"
    }
  },
  "nbformat": 4,
  "nbformat_minor": 0
}